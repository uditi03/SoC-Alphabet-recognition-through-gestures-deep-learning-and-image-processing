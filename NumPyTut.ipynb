{
 "cells": [
  {
   "cell_type": "code",
   "execution_count": 78,
   "id": "7259f12e-b580-477c-a8e9-e5bf6035a96f",
   "metadata": {},
   "outputs": [
    {
     "data": {
      "text/plain": [
       "(array([2., 3.]),\n",
       " array([[2, 4],\n",
       "        [5, 6],\n",
       "        [3, 7]]))"
      ]
     },
     "execution_count": 78,
     "metadata": {},
     "output_type": "execute_result"
    }
   ],
   "source": [
    "import numpy as np\n",
    "a=np.array([2.0,3.0])\n",
    "b= np.array([[2,4], [5,6], [3,7]])\n",
    "a, b"
   ]
  },
  {
   "cell_type": "code",
   "execution_count": 79,
   "id": "20c8952a-48cf-4cfe-a053-ca9e931e5072",
   "metadata": {},
   "outputs": [
    {
     "name": "stdout",
     "output_type": "stream",
     "text": [
      "[2. 3.]\n"
     ]
    }
   ],
   "source": [
    "print(a)"
   ]
  },
  {
   "cell_type": "code",
   "execution_count": 80,
   "id": "77bc42d0-0914-4b94-b0f0-21a3dfe9ac73",
   "metadata": {},
   "outputs": [
    {
     "data": {
      "text/plain": [
       "1"
      ]
     },
     "execution_count": 80,
     "metadata": {},
     "output_type": "execute_result"
    }
   ],
   "source": [
    "#get dimension\n",
    "a.ndim"
   ]
  },
  {
   "cell_type": "code",
   "execution_count": 81,
   "id": "47ac1600-060a-4201-ad90-17ecc5cb9923",
   "metadata": {},
   "outputs": [
    {
     "data": {
      "text/plain": [
       "(3, 2)"
      ]
     },
     "execution_count": 81,
     "metadata": {},
     "output_type": "execute_result"
    }
   ],
   "source": [
    "#get shape\n",
    "a.shape\n",
    "b.shape #3 rows, 2 columns"
   ]
  },
  {
   "cell_type": "code",
   "execution_count": 82,
   "id": "59958324-9934-487e-a42c-e20730f450eb",
   "metadata": {},
   "outputs": [
    {
     "data": {
      "text/plain": [
       "dtype('float64')"
      ]
     },
     "execution_count": 82,
     "metadata": {},
     "output_type": "execute_result"
    }
   ],
   "source": [
    "#get data type(bits)\n",
    "a.dtype"
   ]
  },
  {
   "cell_type": "code",
   "execution_count": 83,
   "id": "32cf9bc2-2f9c-4328-9464-4c0e58021e79",
   "metadata": {},
   "outputs": [
    {
     "data": {
      "text/plain": [
       "8"
      ]
     },
     "execution_count": 83,
     "metadata": {},
     "output_type": "execute_result"
    }
   ],
   "source": [
    "#get byte size of each element\n",
    "a.itemsize"
   ]
  },
  {
   "cell_type": "code",
   "execution_count": 84,
   "id": "e6abab56-3558-4ae0-8fce-b84c3cdebe62",
   "metadata": {},
   "outputs": [
    {
     "data": {
      "text/plain": [
       "4"
      ]
     },
     "execution_count": 84,
     "metadata": {},
     "output_type": "execute_result"
    }
   ],
   "source": [
    "b.itemsize"
   ]
  },
  {
   "cell_type": "code",
   "execution_count": 85,
   "id": "5916fd79-b855-47a6-a7f0-e0c42ef7f439",
   "metadata": {},
   "outputs": [
    {
     "data": {
      "text/plain": [
       "16"
      ]
     },
     "execution_count": 85,
     "metadata": {},
     "output_type": "execute_result"
    }
   ],
   "source": [
    "a.nbytes #=total size of a= a.itemsize * no of elements"
   ]
  },
  {
   "cell_type": "code",
   "execution_count": 86,
   "id": "4684910b-2afd-4fbf-8099-55b7ce1021c6",
   "metadata": {},
   "outputs": [
    {
     "data": {
      "text/plain": [
       "2.0"
      ]
     },
     "execution_count": 86,
     "metadata": {},
     "output_type": "execute_result"
    }
   ],
   "source": [
    "a[0]"
   ]
  },
  {
   "cell_type": "code",
   "execution_count": 89,
   "id": "e906e6f6-90f9-4010-9a56-73aecb1ddeb7",
   "metadata": {},
   "outputs": [
    {
     "data": {
      "text/plain": [
       "(3, 5, 4, 7, 5)"
      ]
     },
     "execution_count": 89,
     "metadata": {},
     "output_type": "execute_result"
    }
   ],
   "source": [
    "b[2,0], b[1,0], b[0,1],b[-1,-1],b[-2,-2] # -2,-2 shows [2nd last row,2nd last col]"
   ]
  },
  {
   "cell_type": "code",
   "execution_count": 93,
   "id": "d639716f-9843-40e9-964f-fb402c34a814",
   "metadata": {},
   "outputs": [
    {
     "data": {
      "text/plain": [
       "(array([5, 6]), array([2, 5, 3]))"
      ]
     },
     "execution_count": 93,
     "metadata": {},
     "output_type": "execute_result"
    }
   ],
   "source": [
    "#single row or col\n",
    "b[1,:] , b[:,0]"
   ]
  },
  {
   "cell_type": "code",
   "execution_count": 142,
   "id": "195ca3a1-4068-450e-aad7-b6217454ba14",
   "metadata": {},
   "outputs": [
    {
     "data": {
      "text/plain": [
       "array([[  8,   9,  10,  11,  12,  13],\n",
       "       [  2,   3,   4,   5,   6,   7],\n",
       "       [ 12,  13, 141,  15, 161,  17]])"
      ]
     },
     "execution_count": 142,
     "metadata": {},
     "output_type": "execute_result"
    }
   ],
   "source": [
    "import numpy as np\n",
    "l=np.array([[8,9,10,11,12,13],[2,3,4,5,6,7], [12,13,141,15,161,17]])\n",
    "l"
   ]
  },
  {
   "cell_type": "code",
   "execution_count": 105,
   "id": "324f0c1c-dfb8-49f2-9568-71f9c6709c58",
   "metadata": {},
   "outputs": [
    {
     "data": {
      "text/plain": [
       "array([2, 4])"
      ]
     },
     "execution_count": 105,
     "metadata": {},
     "output_type": "execute_result"
    }
   ],
   "source": [
    "l[1, 0:4:2] #l[row no, startIndex:endIndex(not included):stepSize]"
   ]
  },
  {
   "cell_type": "code",
   "execution_count": 107,
   "id": "7515c4a6-5537-4384-8925-e7438f414be0",
   "metadata": {},
   "outputs": [
    {
     "data": {
      "text/plain": [
       "array([3, 5, 7])"
      ]
     },
     "execution_count": 107,
     "metadata": {},
     "output_type": "execute_result"
    }
   ],
   "source": [
    "l[1, 1:6:2] #6 works thought there are 6indices which means last index is 5"
   ]
  },
  {
   "cell_type": "code",
   "execution_count": 109,
   "id": "01b71812-9cee-468a-8450-001917663a15",
   "metadata": {},
   "outputs": [
    {
     "data": {
      "text/plain": [
       "array([[ 2, 10],\n",
       "       [ 5,  6],\n",
       "       [ 3,  7]])"
      ]
     },
     "execution_count": 109,
     "metadata": {},
     "output_type": "execute_result"
    }
   ],
   "source": [
    "#changing elements\n",
    "b[0,1]=10\n",
    "b"
   ]
  },
  {
   "cell_type": "code",
   "execution_count": 111,
   "id": "8878c46a-5ba8-48ec-8b68-c24b0283d630",
   "metadata": {},
   "outputs": [
    {
     "data": {
      "text/plain": [
       "array([[  8,   7,  10,  11,  12,  13],\n",
       "       [  2,   7,   4,   5,   6,   7],\n",
       "       [ 12,   7, 141,  15, 161,  17]])"
      ]
     },
     "execution_count": 111,
     "metadata": {},
     "output_type": "execute_result"
    }
   ],
   "source": [
    "#changing all entire 1st column\n",
    "l[:,1]=7\n",
    "l"
   ]
  },
  {
   "cell_type": "code",
   "execution_count": 117,
   "id": "f857a100-8c91-4706-9aea-fe6f20fd13a4",
   "metadata": {},
   "outputs": [
    {
     "data": {
      "text/plain": [
       "array([[[0, 1],\n",
       "        [1, 1]],\n",
       "\n",
       "       [[0, 1],\n",
       "        [1, 1]]])"
      ]
     },
     "execution_count": 117,
     "metadata": {},
     "output_type": "execute_result"
    }
   ],
   "source": [
    "#3D array\n",
    "z=np.array([[[0,1],[1,1]] #layer 0 made of 2d array(kind of like x axis)\n",
    "            ,[[0,1],[1,1]]] #layer 1 made of 2d array(y axis))\n",
    "z #(graph of f(x,y))"
   ]
  },
  {
   "cell_type": "code",
   "execution_count": 126,
   "id": "513eb3c1-6528-4828-9996-6179718d1112",
   "metadata": {},
   "outputs": [
    {
     "name": "stdout",
     "output_type": "stream",
     "text": [
      "1\n"
     ]
    }
   ],
   "source": [
    "#to access elements\n",
    "print(z[0,1,1]) #0th layer's 1st array's 1st element"
   ]
  },
  {
   "cell_type": "code",
   "execution_count": 127,
   "id": "3788d240-f358-42ad-9d6f-6d64773d28d5",
   "metadata": {},
   "outputs": [
    {
     "data": {
      "text/plain": [
       "array([[[0, 1],\n",
       "        [1, 5]],\n",
       "\n",
       "       [[0, 1],\n",
       "        [1, 1]]])"
      ]
     },
     "execution_count": 127,
     "metadata": {},
     "output_type": "execute_result"
    }
   ],
   "source": [
    "z[0,1,1]=5\n",
    "z"
   ]
  },
  {
   "cell_type": "code",
   "execution_count": 129,
   "id": "1d7c65c2-67ec-4a69-9478-2d4aa737afb4",
   "metadata": {},
   "outputs": [
    {
     "data": {
      "text/plain": [
       "array([[[1, 2, 3],\n",
       "        [4, 5, 6],\n",
       "        [7, 8, 9]],\n",
       "\n",
       "       [[0, 0, 0],\n",
       "        [0, 0, 0],\n",
       "        [0, 0, 0]]])"
      ]
     },
     "execution_count": 129,
     "metadata": {},
     "output_type": "execute_result"
    }
   ],
   "source": [
    "z1= np.array([[[1,2,3],[4,5,6],[7,8,9]],[[0,0,0],[0,0,0],[0,0,0]]])\n",
    "z1"
   ]
  },
  {
   "cell_type": "code",
   "execution_count": 131,
   "id": "a02acf9c-a103-4a91-b1b5-9e82a3b0db1f",
   "metadata": {},
   "outputs": [
    {
     "data": {
      "text/plain": [
       "array([[[[1, 2, 3],\n",
       "         [4, 5, 6],\n",
       "         [7, 8, 9]],\n",
       "\n",
       "        [[0, 0, 0],\n",
       "         [0, 0, 0],\n",
       "         [0, 0, 0]]],\n",
       "\n",
       "\n",
       "       [[[1, 2, 3],\n",
       "         [4, 5, 6],\n",
       "         [7, 8, 9]],\n",
       "\n",
       "        [[0, 0, 0],\n",
       "         [0, 0, 0],\n",
       "         [0, 0, 0]]],\n",
       "\n",
       "\n",
       "       [[[1, 2, 3],\n",
       "         [4, 5, 6],\n",
       "         [7, 8, 9]],\n",
       "\n",
       "        [[0, 0, 0],\n",
       "         [0, 0, 0],\n",
       "         [0, 0, 0]]]])"
      ]
     },
     "execution_count": 131,
     "metadata": {},
     "output_type": "execute_result"
    }
   ],
   "source": [
    "d4= np.array([\n",
    "    [\n",
    "    [[1,2,3],[4,5,6],[7,8,9]],\n",
    "    [[0,0,0],[0,0,0],[0,0,0]]\n",
    "    ],\n",
    "    [\n",
    "    [[1,2,3],[4,5,6],[7,8,9]],\n",
    "    [[0,0,0],[0,0,0],[0,0,0]]\n",
    "    ],\n",
    "    [\n",
    "    [[1,2,3],[4,5,6],[7,8,9]],\n",
    "    [[0,0,0],[0,0,0],[0,0,0]]\n",
    "    ]\n",
    "            ])\n",
    "d4"
   ]
  },
  {
   "cell_type": "code",
   "execution_count": 141,
   "id": "bc9b4c74-844f-4fb7-acd9-66b0e913fb72",
   "metadata": {},
   "outputs": [
    {
     "data": {
      "text/plain": [
       "array([[1, 1, 1, 1, 1],\n",
       "       [1, 1, 1, 1, 1],\n",
       "       [1, 1, 1, 1, 1],\n",
       "       [1, 1, 1, 1, 1],\n",
       "       [1, 1, 1, 1, 1]])"
      ]
     },
     "execution_count": 141,
     "metadata": {},
     "output_type": "execute_result"
    }
   ],
   "source": [
    "q1=np.ones((5,5),dtype=int)\n",
    "q1"
   ]
  },
  {
   "cell_type": "code",
   "execution_count": 148,
   "id": "e84c1ecf-e82a-4d73-a583-5cb680c2b2fd",
   "metadata": {},
   "outputs": [
    {
     "name": "stdout",
     "output_type": "stream",
     "text": [
      "[[1 1 1 1 1]\n",
      " [1 0 0 0 1]\n",
      " [1 0 9 0 1]\n",
      " [1 0 0 0 1]\n",
      " [1 1 1 1 1]]\n"
     ]
    }
   ],
   "source": [
    "i=1\n",
    "while (i<4):\n",
    "    q1[i, 1:4:1]=0\n",
    "    i+=1\n",
    "q1\n",
    "q1[2,2]=9\n",
    "print(q1)"
   ]
  },
  {
   "cell_type": "code",
   "execution_count": 160,
   "id": "3be46170-5ef3-442c-94c5-df73d9f81eb8",
   "metadata": {},
   "outputs": [
    {
     "name": "stdout",
     "output_type": "stream",
     "text": [
      "[[1 1 1 1 1]\n",
      " [1 1 1 1 1]\n",
      " [1 1 1 1 1]\n",
      " [1 1 1 1 1]\n",
      " [1 1 1 1 1]]  \n",
      " [[0 0 0]\n",
      " [0 9 0]\n",
      " [0 0 0]]\n",
      "[[1 1 1 1 1]\n",
      " [1 0 0 0 1]\n",
      " [1 0 9 0 1]\n",
      " [1 0 0 0 1]\n",
      " [1 1 1 1 1]]\n"
     ]
    }
   ],
   "source": [
    "#method 2:\n",
    "a1= np.ones((5,5),dtype=int)\n",
    "z1= np.zeros((3,3),dtype=int)\n",
    "z1[1,1]=9\n",
    "print(a1,\" \\n\",z1)\n",
    "a1[1:-1, 1:-1]=z1 #accessing [1st row till last row, 1st column till last column]\n",
    "print(a1)"
   ]
  },
  {
   "cell_type": "code",
   "execution_count": 172,
   "id": "cb6990c5-78c4-45ff-89f4-fe6eb32cdb79",
   "metadata": {},
   "outputs": [
    {
     "name": "stdout",
     "output_type": "stream",
     "text": [
      "[5. 3.] [2. 3.]\n",
      "[5. 3.] [5. 3.]\n"
     ]
    }
   ],
   "source": [
    "a1=a.copy()\n",
    "a1[0]=5\n",
    "print(a1,a)\n",
    "a1=a\n",
    "a1[0]=5\n",
    "print(a1, a)\n",
    " #a1 changed as well because a1=a is just a1 pointing at a and not a copy of a\n"
   ]
  },
  {
   "cell_type": "code",
   "execution_count": 209,
   "id": "2ee838b6-2868-46a8-8d6b-f0acbbf70afb",
   "metadata": {
    "scrolled": true
   },
   "outputs": [
    {
     "name": "stdout",
     "output_type": "stream",
     "text": [
      "this is b: \n",
      "[[2 4]\n",
      " [5 6]\n",
      " [3 7]]\n",
      "\n",
      "[2 4 5 6 3 7]\n",
      "[2 2 4 4 5 5 6 6 3 3 7 7]\n",
      "[[2 4]\n",
      " [2 4]\n",
      " [5 6]\n",
      " [5 6]\n",
      " [3 7]\n",
      " [3 7]]\n",
      "[[2 2 4 4]\n",
      " [5 5 6 6]\n",
      " [3 3 7 7]]\n",
      "\n",
      "[[2 4 2 4]\n",
      " [5 6 5 6]\n",
      " [3 7 3 7]]\n",
      "\n",
      "[[2 4 5 6 3 7]\n",
      " [2 4 5 6 3 7]]\n",
      "[2 4 5 6 3 7 2 4 5 6 3 7]\n"
     ]
    }
   ],
   "source": [
    "#to repeat an array:\n",
    "b[0,1]=4\n",
    "print(f\"this is b: \\n{b}\\n\")\n",
    "print(np.repeat(b,1))\n",
    "b1=np.repeat(b,1)\n",
    "print(np.repeat(b,2))\n",
    "print(np.repeat(b,2,axis=0))\n",
    "print(f\"{np.repeat(b,2,axis=1)}\\n\")\n",
    "\n",
    "#to reshape an array\n",
    "print(f\"{(np.repeat(b,2,axis=0)).reshape(3,4)}\\n\")\n",
    "\n",
    "#stacking\n",
    "#vertical\n",
    "print(np.vstack([b1,b1]))\n",
    "#horizontal\n",
    "print(np.hstack([b1,b1]))"
   ]
  },
  {
   "cell_type": "code",
   "execution_count": null,
   "id": "91eceec0-0a18-454a-b627-0b475953a351",
   "metadata": {},
   "outputs": [],
   "source": [
    "#get data as array from a file\n",
    "file=np.genfromtxt(\"/path\",delimiter=\" \") #default=float\n",
    "file= file.astype('int32') #to convert to int\n"
   ]
  },
  {
   "cell_type": "code",
   "execution_count": null,
   "id": "4c7edbf7-99f6-4ee5-b9b8-63f12c7df64c",
   "metadata": {},
   "outputs": [],
   "source": [
    "#boolean masking\n",
    "ba1= file > 50 #gives array of boolean, returns true in places of data where data is>50\n",
    "ba2= np.any(file>50, axis=0) #returns array of boolean with condition checked in axis 0\n",
    "print(b1 + \"\\n\" + b2 + \\\"n\")"
   ]
  },
  {
   "cell_type": "code",
   "execution_count": null,
   "id": "8b2ea116-7996-422f-9bb5-5133964d319d",
   "metadata": {},
   "outputs": [],
   "source": [
    "#adv indexing:\n",
    "file[file>50] #givesan array of INDICES of data where data>50\n"
   ]
  },
  {
   "cell_type": "code",
   "execution_count": 217,
   "id": "2fe5a9db-7ac2-4aa5-b2ad-c2036e6c764e",
   "metadata": {},
   "outputs": [
    {
     "data": {
      "text/plain": [
       "array([9, 1, 5])"
      ]
     },
     "execution_count": 217,
     "metadata": {},
     "output_type": "execute_result"
    }
   ],
   "source": [
    "#making list with index:\n",
    "a2= np.array([9,1,2,3,4,5,6,7])\n",
    "a3=a2[[0,1,5]] #a3 is a list of elements at indices [0,1,5] of a2\n",
    "a3"
   ]
  },
  {
   "cell_type": "code",
   "execution_count": 216,
   "id": "3b8972c7-9937-4bbf-ad21-28c795f46a0a",
   "metadata": {},
   "outputs": [
    {
     "data": {
      "text/plain": [
       "array([6])"
      ]
     },
     "execution_count": 216,
     "metadata": {},
     "output_type": "execute_result"
    }
   ],
   "source": [
    "a4=a2[[-2]]\n",
    "a4"
   ]
  },
  {
   "cell_type": "code",
   "execution_count": 225,
   "id": "ee3d0cfa-5055-43af-bbbb-8bfec6b0489f",
   "metadata": {},
   "outputs": [
    {
     "name": "stdout",
     "output_type": "stream",
     "text": [
      "[[  8   9  10  11  12  13]\n",
      " [  2   3   4   5   6   7]\n",
      " [ 12  13 141  15 161  17]]\n",
      "[ 10   5 161]\n",
      "[[ 12  13]\n",
      " [161  17]]\n",
      "[[ 12  13]\n",
      " [161  17]]\n"
     ]
    }
   ],
   "source": [
    "print(l)\n",
    "a3= l[[0,1,2],[2,3,4]]\n",
    "print(q3)\n",
    "q4= l[0:3:2, 4:6:1]\n",
    "print(q4)\n",
    "#(using indexing): \n",
    "a4=l[[0,2],4:] #4: means 4 onwards \n",
    "print(a4)"
   ]
  },
  {
   "cell_type": "code",
   "execution_count": null,
   "id": "6a450726-bf2e-421e-8f38-8d484e0c0709",
   "metadata": {},
   "outputs": [],
   "source": []
  }
 ],
 "metadata": {
  "kernelspec": {
   "display_name": "Python 3 (ipykernel)",
   "language": "python",
   "name": "python3"
  },
  "language_info": {
   "codemirror_mode": {
    "name": "ipython",
    "version": 3
   },
   "file_extension": ".py",
   "mimetype": "text/x-python",
   "name": "python",
   "nbconvert_exporter": "python",
   "pygments_lexer": "ipython3",
   "version": "3.11.5"
  },
  "widgets": {
   "application/vnd.jupyter.widget-state+json": {
    "state": {},
    "version_major": 2,
    "version_minor": 0
   }
  }
 },
 "nbformat": 4,
 "nbformat_minor": 5
}
